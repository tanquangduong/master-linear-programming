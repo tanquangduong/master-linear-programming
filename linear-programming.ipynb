{
 "cells": [
  {
   "cell_type": "code",
   "execution_count": 1,
   "id": "29a1ff3b",
   "metadata": {},
   "outputs": [],
   "source": [
    "import pulp"
   ]
  },
  {
   "cell_type": "code",
   "execution_count": 3,
   "id": "85524f8c",
   "metadata": {},
   "outputs": [],
   "source": [
    "# Instantiate our problem class\n",
    "model = pulp.LpProblem(\"Profit_maximising_problem\", pulp.LpMaximize)"
   ]
  },
  {
   "cell_type": "code",
   "execution_count": 4,
   "id": "e6413c6e",
   "metadata": {},
   "outputs": [],
   "source": [
    "A = pulp.LpVariable('A', lowBound=0, cat='Integer') \n",
    "B = pulp.LpVariable('B', lowBound=0, cat='Integer')"
   ]
  },
  {
   "cell_type": "code",
   "execution_count": 5,
   "id": "3ef45d08",
   "metadata": {},
   "outputs": [],
   "source": [
    "# Objective function\n",
    "model += 5000 * A + 2500 * B, \"Profit\"\n",
    "\n",
    "# Constraints\n",
    "model += 3 * A + 2 * B <= 20 \n",
    "model += 4 * A + 3 * B <= 30\n",
    "model += 4 * A + 3 * B <= 44"
   ]
  },
  {
   "cell_type": "code",
   "execution_count": 6,
   "id": "83099579",
   "metadata": {},
   "outputs": [
    {
     "data": {
      "text/plain": [
       "'Optimal'"
      ]
     },
     "execution_count": 6,
     "metadata": {},
     "output_type": "execute_result"
    }
   ],
   "source": [
    "# Solve our problem\n",
    "model.solve()\n",
    "pulp.LpStatus[model.status]"
   ]
  },
  {
   "cell_type": "code",
   "execution_count": 7,
   "id": "6f3fd6ed",
   "metadata": {},
   "outputs": [
    {
     "name": "stdout",
     "output_type": "stream",
     "text": [
      "6.0\n",
      "1.0\n"
     ]
    }
   ],
   "source": [
    "# Print the decision variable values\n",
    "print(A.varValue)\n",
    "print(B.varValue)"
   ]
  },
  {
   "cell_type": "code",
   "execution_count": 8,
   "id": "0aa6da42",
   "metadata": {},
   "outputs": [
    {
     "name": "stdout",
     "output_type": "stream",
     "text": [
      "32500.0\n"
     ]
    }
   ],
   "source": [
    "# Print the objective function value\n",
    "print(pulp.value(model.objective))"
   ]
  },
  {
   "cell_type": "code",
   "execution_count": null,
   "id": "8f5c88d0",
   "metadata": {},
   "outputs": [],
   "source": []
  }
 ],
 "metadata": {
  "kernelspec": {
   "display_name": "Python 3 (ipykernel)",
   "language": "python",
   "name": "python3"
  },
  "language_info": {
   "codemirror_mode": {
    "name": "ipython",
    "version": 3
   },
   "file_extension": ".py",
   "mimetype": "text/x-python",
   "name": "python",
   "nbconvert_exporter": "python",
   "pygments_lexer": "ipython3",
   "version": "3.10.10"
  }
 },
 "nbformat": 4,
 "nbformat_minor": 5
}
